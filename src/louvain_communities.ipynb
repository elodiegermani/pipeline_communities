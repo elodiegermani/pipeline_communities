{
 "cells": [
  {
   "cell_type": "markdown",
   "id": "79b8e6f5",
   "metadata": {},
   "source": [
    "# Identification and characterization of coherent pipelines in the task-fMRI analytical space\n",
    "\n",
    "This notebook can be used to plot figures that explore the pipeline space and its stability across different groups of participants. "
   ]
  },
  {
   "cell_type": "code",
   "execution_count": null,
   "id": "203f0dbc",
   "metadata": {},
   "outputs": [],
   "source": [
    "from lib import louvain_utils\n",
    "import networkx as nx\n",
    "import itertools\n",
    "from community import community_louvain\n",
    "import numpy as np\n",
    "from sklearn import cluster\n",
    "from lib import mean_maps_utils"
   ]
  },
  {
   "cell_type": "code",
   "execution_count": null,
   "id": "4e62f8f2",
   "metadata": {},
   "outputs": [],
   "source": [
    "# To modify with your paths\n",
    "data_path = '/Volumes/empenn/egermani/hcp_many_pipelines' # Path to data\n",
    "repo_path = '/Users/egermani/Documents/pipeline_distance' # Path to repository (to avoid relative paths)\n",
    "\n",
    "contrast = 'left-hand'\n",
    "data_type='group'"
   ]
  },
  {
   "cell_type": "code",
   "execution_count": null,
   "id": "7462609a",
   "metadata": {},
   "outputs": [],
   "source": [
    "# Load or compute correlation matrix\n",
    "if contrast != 'all':\n",
    "    Qs = louvain_utils.compute_correlation_matrix(data_path, repo_path, contrast, data_type)\n",
    "\n",
    "else: # Concat all matrix \n",
    "    contrast_list = ['right-hand', 'right-foot', 'left-hand', 'left-foot', 'tongue']\n",
    "    Qs_unchain = []\n",
    "\n",
    "    for con in contrast_list: \n",
    "        Qs_unchain.append(louvain_utils.compute_correlation_matrix(data_path, repo_path, con, data_type))\n",
    "\n",
    "    Qs = list(itertools.chain(*Qs_unchain))\n",
    "\n",
    "# Partition each group/subject level correlation matrix\n",
    "partitioning = louvain_utils.per_group_partitioning(Qs)\n",
    "\n",
    "# Compute matrix of belonging to the same community across groups/subject for each pair of pipeline\n",
    "matrix_graph, subject = louvain_utils.compute_partition_matrix(data_path, partitioning, data_type)\n",
    "\n",
    "# Global partitioning\n",
    "G = nx.Graph(matrix_graph, seed=0)\n",
    "partition = community_louvain.best_partition(G, random_state=0)"
   ]
  },
  {
   "cell_type": "code",
   "execution_count": null,
   "id": "0c16d852",
   "metadata": {},
   "outputs": [],
   "source": [
    "saving_names = [f'{repo_path}/figures/graph_{len(Qs)}_{data_type}s_{contrast}.png',\n",
    "f'{repo_path}/figures/heatmap_{len(Qs)}_{data_type}s_{contrast}.png']\n",
    "\n",
    "# Plot results \n",
    "louvain_utils.build_both_graph_heatmap(matrix_graph, G, partition, subject, saving_names, contrast, data_type)"
   ]
  },
  {
   "cell_type": "markdown",
   "id": "edb32f60",
   "metadata": {},
   "source": [
    "## Quality control of graphs"
   ]
  },
  {
   "cell_type": "code",
   "execution_count": null,
   "id": "74386a27",
   "metadata": {},
   "outputs": [],
   "source": [
    "communities = [[i for i in partition.keys() if partition[i]==p] for p in np.unique(list(partition.values())).tolist()]\n",
    "\n",
    "community = {}\n",
    "for k in range(len(communities)):\n",
    "    community[k] = []\n",
    "    for i, s in enumerate(subject):\n",
    "        if i in communities[k]:\n",
    "            community[k].append(s)  \n",
    "print(community)"
   ]
  },
  {
   "cell_type": "code",
   "execution_count": null,
   "id": "72b32b8d",
   "metadata": {},
   "outputs": [],
   "source": [
    "A = nx.adjacency_matrix(G)\n",
    "k_clusters=len(communities)\n",
    "model = cluster.KMeans(n_clusters=k_clusters, n_init=200) \n",
    "\n",
    "model.fit(A.todense())"
   ]
  },
  {
   "cell_type": "code",
   "execution_count": null,
   "id": "3fcdfa7e",
   "metadata": {},
   "outputs": [],
   "source": [
    "clusters = {}\n",
    "for k in range(k_clusters):\n",
    "    clusters[k] = []\n",
    "    for i, s in enumerate(subject):\n",
    "        if list(model.labels_)[i] == k:\n",
    "            clusters[k].append(s)\n",
    "print(clusters)"
   ]
  },
  {
   "cell_type": "code",
   "execution_count": null,
   "id": "29b6c78d",
   "metadata": {},
   "outputs": [],
   "source": [
    "print('Modularity of final graph:', nx.community.modularity(G, communities, weight='weight', resolution=1))\n",
    "print('Coverage of final graph:', nx.community.partition_quality(G, communities)[0])\n",
    "print('Performance of final graph:', nx.community.partition_quality(G, communities)[1])"
   ]
  },
  {
   "cell_type": "markdown",
   "id": "49126112",
   "metadata": {},
   "source": [
    "## Mean maps visualisation"
   ]
  },
  {
   "cell_type": "code",
   "execution_count": null,
   "id": "3f53747e",
   "metadata": {},
   "outputs": [],
   "source": [
    "mean_maps_utils.plot_mean_image(contrast, partition, repo_path, data_type)"
   ]
  },
  {
   "cell_type": "code",
   "execution_count": null,
   "id": "232d0328",
   "metadata": {},
   "outputs": [],
   "source": [
    "mean_maps_utils.get_activated_voxels(contrast, partition, repo_path, data_type)"
   ]
  },
  {
   "cell_type": "code",
   "execution_count": null,
   "id": "4c1f16f5",
   "metadata": {},
   "outputs": [],
   "source": [
    "import importlib \n",
    "importlib.reload(mean_maps_utils)\n",
    "\n",
    "mean_maps_utils.plot_pipeline_maps(contrast, partition, subject, repo_path, data_type)"
   ]
  },
  {
   "cell_type": "code",
   "execution_count": null,
   "id": "2acdeaea",
   "metadata": {},
   "outputs": [],
   "source": [
    "mean_maps_utils.get_activated_voxels_pipelines(contrast, partition, subject, repo_path, data_type)"
   ]
  }
 ],
 "metadata": {
  "kernelspec": {
   "display_name": "Python 3 (ipykernel)",
   "language": "python",
   "name": "python3"
  },
  "language_info": {
   "codemirror_mode": {
    "name": "ipython",
    "version": 3
   },
   "file_extension": ".py",
   "mimetype": "text/x-python",
   "name": "python",
   "nbconvert_exporter": "python",
   "pygments_lexer": "ipython3",
   "version": "3.10.12"
  }
 },
 "nbformat": 4,
 "nbformat_minor": 5
}
